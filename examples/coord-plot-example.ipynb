{
 "cells": [
  {
   "cell_type": "markdown",
   "metadata": {},
   "source": [
    "# SkyCoord"
   ]
  },
  {
   "cell_type": "code",
   "execution_count": 1,
   "metadata": {
    "collapsed": true
   },
   "outputs": [],
   "source": [
    "from astropy.coordinates import SkyCoord"
   ]
  },
  {
   "cell_type": "code",
   "execution_count": 2,
   "metadata": {
    "collapsed": true
   },
   "outputs": [],
   "source": [
    "pos = SkyCoord(0.2, 0.1, frame='galactic', unit='deg')"
   ]
  },
  {
   "cell_type": "code",
   "execution_count": 3,
   "metadata": {
    "collapsed": false
   },
   "outputs": [
    {
     "data": {
      "text/plain": [
       "<SkyCoord (Galactic): (l, b) in deg\n",
       "    ( 0.2,  0.1)>"
      ]
     },
     "execution_count": 3,
     "metadata": {},
     "output_type": "execute_result"
    }
   ],
   "source": [
    "pos"
   ]
  },
  {
   "cell_type": "code",
   "execution_count": 4,
   "metadata": {
    "collapsed": false
   },
   "outputs": [
    {
     "data": {
      "text/latex": [
       "$0^\\circ12{}^\\prime00{}^{\\prime\\prime}$"
      ],
      "text/plain": [
       "<Longitude 0.2 deg>"
      ]
     },
     "execution_count": 4,
     "metadata": {},
     "output_type": "execute_result"
    }
   ],
   "source": [
    "pos.data.lon"
   ]
  },
  {
   "cell_type": "code",
   "execution_count": 5,
   "metadata": {
    "collapsed": false
   },
   "outputs": [
    {
     "data": {
      "text/latex": [
       "$0^\\circ06{}^\\prime00{}^{\\prime\\prime}$"
      ],
      "text/plain": [
       "<Latitude 0.1 deg>"
      ]
     },
     "execution_count": 5,
     "metadata": {},
     "output_type": "execute_result"
    }
   ],
   "source": [
    "pos.data.lat"
   ]
  },
  {
   "cell_type": "code",
   "execution_count": 6,
   "metadata": {
    "collapsed": false
   },
   "outputs": [
    {
     "data": {
      "text/plain": [
       "'galactic'"
      ]
     },
     "execution_count": 6,
     "metadata": {},
     "output_type": "execute_result"
    }
   ],
   "source": [
    "pos.frame.name"
   ]
  },
  {
   "cell_type": "code",
   "execution_count": 7,
   "metadata": {
    "collapsed": true
   },
   "outputs": [],
   "source": [
    "pos2 = pos.icrs # creates a new SkyCoord object in the icrs frame"
   ]
  },
  {
   "cell_type": "code",
   "execution_count": 8,
   "metadata": {
    "collapsed": false
   },
   "outputs": [
    {
     "data": {
      "text/plain": [
       "<SkyCoord (ICRS): (ra, dec) in deg\n",
       "    ( 266.42648314, -28.71336544)>"
      ]
     },
     "execution_count": 8,
     "metadata": {},
     "output_type": "execute_result"
    }
   ],
   "source": [
    "pos2"
   ]
  },
  {
   "cell_type": "code",
   "execution_count": 9,
   "metadata": {
    "collapsed": false
   },
   "outputs": [
    {
     "data": {
      "text/plain": [
       "266.4264831433104"
      ]
     },
     "execution_count": 9,
     "metadata": {},
     "output_type": "execute_result"
    }
   ],
   "source": [
    "pos2.data.lon.deg"
   ]
  },
  {
   "cell_type": "code",
   "execution_count": 10,
   "metadata": {
    "collapsed": false
   },
   "outputs": [
    {
     "data": {
      "text/plain": [
       "-28.713365439899146"
      ]
     },
     "execution_count": 10,
     "metadata": {},
     "output_type": "execute_result"
    }
   ],
   "source": [
    "pos2.data.lat.deg"
   ]
  },
  {
   "cell_type": "code",
   "execution_count": 11,
   "metadata": {
    "collapsed": false
   },
   "outputs": [
    {
     "data": {
      "text/plain": [
       "<SkyCoord (ICRS): (ra, dec) in deg\n",
       "    ( 266.42648314, -28.71336544)>"
      ]
     },
     "execution_count": 11,
     "metadata": {},
     "output_type": "execute_result"
    }
   ],
   "source": [
    "# Another way to transform between sky coordinate frames\n",
    "pos.transform_to('icrs')"
   ]
  },
  {
   "cell_type": "markdown",
   "metadata": {},
   "source": [
    "Sky coordinate systems:\n",
    "\n",
    "* ICRS = RADEC: equator (declination = 0 deg) is Earth's equator\n",
    "* Galactic: equator (Galactic latitude = 0 deg) is plane of the Milky Way (our Galaxy)\n",
    "\n",
    "These two coordinate systems are simply rotated with respect to each other."
   ]
  },
  {
   "cell_type": "markdown",
   "metadata": {},
   "source": [
    "# WCS\n",
    "\n",
    "* See http://astropy.readthedocs.io/en/latest/wcs/index.html"
   ]
  },
  {
   "cell_type": "code",
   "execution_count": 12,
   "metadata": {
    "collapsed": true
   },
   "outputs": [],
   "source": [
    "import numpy as np\n",
    "from astropy.wcs import WCS"
   ]
  },
  {
   "cell_type": "code",
   "execution_count": 13,
   "metadata": {
    "collapsed": false
   },
   "outputs": [
    {
     "data": {
      "text/plain": [
       "WCS Keywords\n",
       "\n",
       "Number of WCS axes: 2\n",
       "CTYPE : 'RA---AIR'  'DEC--AIR'  \n",
       "CRVAL : 0.0  -90.0  \n",
       "CRPIX : -234.75  8.3392999999999997  \n",
       "PC1_1 PC1_2  : 1.0  0.0  \n",
       "PC2_1 PC2_2  : 0.0  1.0  \n",
       "CDELT : -0.066667000000000004  0.066667000000000004  \n",
       "NAXIS : 0  0"
      ]
     },
     "execution_count": 13,
     "metadata": {},
     "output_type": "execute_result"
    }
   ],
   "source": [
    "# Create WCS object\n",
    "# A WCS object defines a \"transformation\"\n",
    "# or \"projection\" from pixel to world coordinate\n",
    "# world and sky coordinates are the same\n",
    "w = WCS(naxis=2)\n",
    "\n",
    "w.wcs.crpix = [-234.75, 8.3393]\n",
    "w.wcs.cdelt = np.array([-0.066667, 0.066667])\n",
    "w.wcs.crval = [0, -90]\n",
    "w.wcs.ctype = [\"RA---AIR\", \"DEC--AIR\"]\n",
    "w.wcs.set_pv([(2, 1, 45.0)])\n",
    "\n",
    "w"
   ]
  },
  {
   "cell_type": "code",
   "execution_count": 14,
   "metadata": {
    "collapsed": false
   },
   "outputs": [
    {
     "name": "stdout",
     "output_type": "stream",
     "text": [
      "[[ 267.96547027  -73.73660749]]\n"
     ]
    }
   ],
   "source": [
    "# Some pixel coordinates of interest.\n",
    "# pixcrd = np.array([[0, 0], [24, 38], [45, 98]], np.float_)\n",
    "pixcrd = [[0, 0]] # x, y\n",
    "\n",
    "# Convert pixel coordinates to world coordinates\n",
    "world = w.wcs_pix2world(pixcrd, 1)\n",
    "print(world) # lon, lat"
   ]
  },
  {
   "cell_type": "code",
   "execution_count": 15,
   "metadata": {
    "collapsed": false
   },
   "outputs": [
    {
     "data": {
      "text/plain": [
       "array([[  1.16529009e-12,  -2.80664381e-13]])"
      ]
     },
     "execution_count": 15,
     "metadata": {},
     "output_type": "execute_result"
    }
   ],
   "source": [
    "# You can go the other way\n",
    "# Let's transform the world coordinates\n",
    "# back to pixel coordinates\n",
    "# This should give the same as the initial pixel coords\n",
    "pix2 = w.wcs_world2pix(world, 1)\n",
    "pix2"
   ]
  },
  {
   "cell_type": "code",
   "execution_count": 34,
   "metadata": {
    "collapsed": false,
    "scrolled": true
   },
   "outputs": [
    {
     "name": "stdout",
     "output_type": "stream",
     "text": [
      "<astropy.io.fits.hdu.image.PrimaryHDU object at 0x7f3a7380cda0>\n",
      "[[ 256.  256.]]\n"
     ]
    },
    {
     "name": "stderr",
     "output_type": "stream",
     "text": [
      "WARNING: VerifyWarning: Invalid value for 'BLANK' keyword in header: -32768.0 The 'BLANK' keyword must be an integer.  It will be ignored in the meantime. [astropy.io.fits.hdu.image]\n",
      "WARNING: File may have been truncated: actual file length (527168) is smaller than the expected size (529920) [astropy.io.fits.file]\n"
     ]
    },
    {
     "data": {
      "text/plain": [
       "[<matplotlib.lines.Line2D at 0x7f3a73647b38>]"
      ]
     },
     "execution_count": 34,
     "metadata": {},
     "output_type": "execute_result"
    },
    {
     "data": {
      "image/png": "[encoded data removed]",
      "text/plain": [
       "<matplotlib.figure.Figure at 0x7f3a73a370b8>"
      ]
     },
     "metadata": {},
     "output_type": "display_data"
    }
   ],
   "source": [
    "# Usually WCS objects are created from FITS headers\n",
    "# You have a FITS file with a sky image\n",
    "# The header contains the WCS parameters\n",
    "\n",
    "# Example from here: http://astropy.readthedocs.io/en/latest/visualization/wcsaxes/index.html\n",
    "%matplotlib inline\n",
    "import matplotlib.pyplot as plt\n",
    "\n",
    "from astropy.wcs import WCS\n",
    "from astropy.io import fits\n",
    "from astropy.utils.data import get_pkg_data_filename\n",
    "\n",
    "# filename = get_pkg_data_filename('galactic_center/gc_msx_e.fits')\n",
    "filename = '/media/adeel/643459A034597650/Projects/GSoC/OpenAstronomy/HiPS repository/hips-extra/datasets/samples/DSS2Red/Norder3/Dir0/Npix451.fits'\n",
    "\n",
    "hdu = fits.open(filename)[0]\n",
    "print(hdu)\n",
    "wcs = WCS(hdu.header)\n",
    "\n",
    "plt.subplot(projection=wcs)\n",
    "plt.imshow(hdu.data, vmin=-2.e-5, vmax=2.e-4, origin='lower', cmap='gray')\n",
    "plt.grid(color='white', ls='solid')\n",
    "plt.xlabel('Galactic Longitude')\n",
    "plt.ylabel('Galactic Latitude')\n",
    "# To plot a marker at a given pixel position\n",
    "plt.plot(70, 30, 'o', ms=20, c='red')\n",
    "\n",
    "# To plot a marker at a given sky position (method 1)\n",
    "tile_center = [hdu.data.shape[0] / 2, hdu.data.shape[1] / 2]\n",
    "corner_1 = np.array([[0, 0]], dtype='int')\n",
    "corner_2 = np.array([[0, hdu.data.shape[0]]], dtype='int')\n",
    "corner_3 = np.array([[hdu.data.shape[1], 0]], dtype='int')\n",
    "corner_4 = np.array([[hdu.data.shape[0], hdu.data.shape[1]]], dtype='int')\n",
    "\n",
    "world_pos = np.array([tile_center], dtype='int') # Galactic position in deg\n",
    "pix_pos = wcs.wcs_world2pix(world_pos, 1)\n",
    "corner_1 = wcs.wcs_world2pix(corner_1, 1)\n",
    "corner_2 = wcs.wcs_world2pix(corner_2, 1)\n",
    "corner_3 = wcs.wcs_world2pix(corner_3, 1)\n",
    "corner_4 = wcs.wcs_world2pix(corner_4, 1)\n",
    "\n",
    "print(pix_pos)\n",
    "plt.plot(pix_pos[0][0], pix_pos[0][1], 'o', ms=20, c='white')\n",
    "plt.plot(corner_1[0][0], corner_1[0][1], 'o', ms=20, c='white')\n",
    "plt.plot(corner_2[0][0], corner_2[0][1], 'o', ms=20, c='white')\n",
    "plt.plot(corner_3[0][0], corner_3[0][1], 'o', ms=20, c='white')\n",
    "plt.plot(corner_4[0][0], corner_4[0][1], 'o', ms=20, c='white')\n",
    "\n",
    "# Second way to plot at given sky position\n",
    "# Read through and work through this \n",
    "# http://astropy.readthedocs.io/en/latest/visualization/wcsaxes/overlays.html"
   ]
  },
  {
   "cell_type": "code",
   "execution_count": 106,
   "metadata": {
    "collapsed": false
   },
   "outputs": [
    {
     "data": {
      "text/plain": [
       "<matplotlib.image.AxesImage at 0x7f3a6b012438>"
      ]
     },
     "execution_count": 106,
     "metadata": {},
     "output_type": "execute_result"
    },
    {
     "data": {
      "image/png": "[encoded data removed]",
      "text/plain": [
       "<matplotlib.figure.Figure at 0x7f3a6b05dac8>"
      ]
     },
     "metadata": {},
     "output_type": "display_data"
    }
   ],
   "source": [
    "# testing out the second method\n",
    "\n",
    "from astropy.wcs import WCS\n",
    "from astropy.io import fits\n",
    "from astropy.utils.data import get_pkg_data_filename\n",
    "from astropy.visualization.wcsaxes import WCSAxes\n",
    "\n",
    "filename = get_pkg_data_filename('galactic_center/gc_msx_e.fits')\n",
    "# filename = '/media/adeel/643459A034597650/Projects/GSoC/OpenAstronomy/HiPS repository/hips-extra/datasets/samples/DSS2Red/Norder3/Dir0/Npix451.fits'\n",
    "\n",
    "hdu = fits.open(filename)[0]\n",
    "wcs = WCS(hdu.header)\n",
    "\n",
    "fig = plt.figure()\n",
    "\n",
    "ax = WCSAxes(fig, [0.1, 0.1, 0.8, 0.8], wcs=wcs)\n",
    "\n",
    "fig.add_axes(ax)  # note that the axes have to be explicitly added to the figure\n",
    "\n",
    "# The following line makes it so that the zoom level no longer changes,\n",
    "# otherwise Matplotlib has a tendency to zoom out when adding overlays.\n",
    "# ax.set_autoscale_on(False)\n",
    "\n",
    "# Add a rectangle with bottom left corner at pixel position (30, 50) with a\n",
    "# width and height of 60 and 50 pixels respectively.\n",
    "\n",
    "from matplotlib.patches import Rectangle\n",
    "r = Rectangle((30., 50.), 60., 50., edgecolor='yellow', facecolor='none')\n",
    "ax.add_patch(r)\n",
    "\n",
    "# Add three markers at (40, 30), (100, 130), and (130, 60). The facecolor is\n",
    "# a transparent white (0.5 is the alpha value).\n",
    "ax.scatter([40, 100, 130], [30, 130, 60], s=100, edgecolor='black', facecolor=(1, 1, 1, 0.5))\n",
    "ax.scatter([40, 120, 135], [80, 130, 60], s=300, edgecolor='white', facecolor='none')\n",
    "\n",
    "r = Rectangle((266.0, -28.9), 0.3, 0.15, edgecolor='green', facecolor='none',\n",
    "              transform=ax.get_transform('fk5'))\n",
    "ax.add_patch(r)\n",
    "\n",
    "from matplotlib.patches import Circle\n",
    "\n",
    "r = Rectangle((266.4, -28.9), 0.3, 0.3, edgecolor='cyan', facecolor='none',\n",
    "              transform=ax.get_transform('fk5'))\n",
    "ax.add_patch(r)\n",
    "\n",
    "c = Circle((266.4, -29.1), 0.15, edgecolor='yellow', facecolor='none',\n",
    "              transform=ax.get_transform('fk5'))\n",
    "ax.add_patch(c)\n",
    "\n",
    "ax.contour(hdu.data, levels=np.logspace(-4.7, -3., 10), colors='white', alpha=0.5)\n",
    "ax.imshow(hdu.data, cmap='gray')"
   ]
  },
  {
   "cell_type": "code",
   "execution_count": null,
   "metadata": {
    "collapsed": false
   },
   "outputs": [],
   "source": [
    "filename"
   ]
  },
  {
   "cell_type": "code",
   "execution_count": null,
   "metadata": {
    "collapsed": true
   },
   "outputs": [],
   "source": [
    "hdu = fits.open(filename)[0]"
   ]
  },
  {
   "cell_type": "code",
   "execution_count": null,
   "metadata": {
    "collapsed": false
   },
   "outputs": [],
   "source": [
    "type(hdu.data)"
   ]
  },
  {
   "cell_type": "code",
   "execution_count": null,
   "metadata": {
    "collapsed": false
   },
   "outputs": [],
   "source": [
    "hdu.data.shape"
   ]
  },
  {
   "cell_type": "code",
   "execution_count": null,
   "metadata": {
    "collapsed": false
   },
   "outputs": [],
   "source": [
    "plt.imshow(hdu.data)"
   ]
  },
  {
   "cell_type": "code",
   "execution_count": null,
   "metadata": {
    "collapsed": false
   },
   "outputs": [],
   "source": [
    "wcs\n",
    "# GLON / GLAT shows that it's in Galactic coords\n",
    "# CAR is the projection type\n",
    "# Other parameters define the projection\n",
    "# between pixel and world coordinates\n",
    "\n",
    "# You don't have to read this:\n",
    "# Standard paper defining FITS: http://adsabs.harvard.edu/abs/2010A%26A...524A..42P\n",
    "# Papers defining WCS: https://fits.gsfc.nasa.gov/fits_wcs.html"
   ]
  },
  {
   "cell_type": "code",
   "execution_count": null,
   "metadata": {
    "collapsed": true
   },
   "outputs": [],
   "source": []
  }
 ],
 "metadata": {
  "kernelspec": {
   "display_name": "Python 3",
   "language": "python",
   "name": "python3"
  },
  "language_info": {
   "codemirror_mode": {
    "name": "ipython",
    "version": 3
   },
   "file_extension": ".py",
   "mimetype": "text/x-python",
   "name": "python",
   "nbconvert_exporter": "python",
   "pygments_lexer": "ipython3",
   "version": "3.4.3"
  }
 },
 "nbformat": 4,
 "nbformat_minor": 2
}
