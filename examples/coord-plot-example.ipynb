{
 "cells": [
  {
   "cell_type": "markdown",
   "metadata": {},
   "source": [
    "# SkyCoord"
   ]
  },
  {
   "cell_type": "code",
   "execution_count": 1,
   "metadata": {
    "collapsed": true
   },
   "outputs": [],
   "source": [
    "from astropy.coordinates import SkyCoord"
   ]
  },
  {
   "cell_type": "code",
   "execution_count": 3,
   "metadata": {},
   "outputs": [],
   "source": [
    "pos = SkyCoord(0.2, 0.1, frame='galactic', unit='deg')"
   ]
  },
  {
   "cell_type": "code",
   "execution_count": 16,
   "metadata": {},
   "outputs": [
    {
     "data": {
      "text/plain": [
       "<SkyCoord (Galactic): (l, b) in deg\n",
       "    ( 0.2,  0.1)>"
      ]
     },
     "execution_count": 16,
     "metadata": {},
     "output_type": "execute_result"
    }
   ],
   "source": [
    "pos"
   ]
  },
  {
   "cell_type": "code",
   "execution_count": 10,
   "metadata": {},
   "outputs": [
    {
     "data": {
      "text/latex": [
       "$0^\\circ12{}^\\prime00{}^{\\prime\\prime}$"
      ],
      "text/plain": [
       "<Longitude 0.2 deg>"
      ]
     },
     "execution_count": 10,
     "metadata": {},
     "output_type": "execute_result"
    }
   ],
   "source": [
    "pos.data.lon"
   ]
  },
  {
   "cell_type": "code",
   "execution_count": 11,
   "metadata": {},
   "outputs": [
    {
     "data": {
      "text/latex": [
       "$0^\\circ06{}^\\prime00{}^{\\prime\\prime}$"
      ],
      "text/plain": [
       "<Latitude 0.1 deg>"
      ]
     },
     "execution_count": 11,
     "metadata": {},
     "output_type": "execute_result"
    }
   ],
   "source": [
    "pos.data.lat"
   ]
  },
  {
   "cell_type": "code",
   "execution_count": 15,
   "metadata": {},
   "outputs": [
    {
     "data": {
      "text/plain": [
       "'galactic'"
      ]
     },
     "execution_count": 15,
     "metadata": {},
     "output_type": "execute_result"
    }
   ],
   "source": [
    "pos.frame.name"
   ]
  },
  {
   "cell_type": "code",
   "execution_count": 19,
   "metadata": {},
   "outputs": [],
   "source": [
    "pos2 = pos.icrs # creates a new SkyCoord object in the icrs frame"
   ]
  },
  {
   "cell_type": "code",
   "execution_count": 21,
   "metadata": {},
   "outputs": [
    {
     "data": {
      "text/plain": [
       "<SkyCoord (ICRS): (ra, dec) in deg\n",
       "    ( 266.42648314, -28.71336544)>"
      ]
     },
     "execution_count": 21,
     "metadata": {},
     "output_type": "execute_result"
    }
   ],
   "source": [
    "pos2"
   ]
  },
  {
   "cell_type": "code",
   "execution_count": 24,
   "metadata": {},
   "outputs": [
    {
     "data": {
      "text/plain": [
       "266.4264831433104"
      ]
     },
     "execution_count": 24,
     "metadata": {},
     "output_type": "execute_result"
    }
   ],
   "source": [
    "pos2.data.lon.deg"
   ]
  },
  {
   "cell_type": "code",
   "execution_count": 26,
   "metadata": {},
   "outputs": [
    {
     "data": {
      "text/plain": [
       "-28.713365439899146"
      ]
     },
     "execution_count": 26,
     "metadata": {},
     "output_type": "execute_result"
    }
   ],
   "source": [
    "pos2.data.lat.deg"
   ]
  },
  {
   "cell_type": "code",
   "execution_count": 30,
   "metadata": {},
   "outputs": [
    {
     "data": {
      "text/plain": [
       "<SkyCoord (ICRS): (ra, dec) in deg\n",
       "    ( 266.42648314, -28.71336544)>"
      ]
     },
     "execution_count": 30,
     "metadata": {},
     "output_type": "execute_result"
    }
   ],
   "source": [
    "# Another way to transform between sky coordinate frames\n",
    "pos.transform_to('icrs')"
   ]
  },
  {
   "cell_type": "markdown",
   "metadata": {},
   "source": [
    "Sky coordinate systems:\n",
    "\n",
    "* ICRS = RADEC: equator (declination = 0 deg) is Earth's equator\n",
    "* Galactic: equator (Galactic latitude = 0 deg) is plane of the Milky Way (our Galaxy)\n",
    "\n",
    "These two coordinate systems are simply rotated with respect to each other."
   ]
  },
  {
   "cell_type": "markdown",
   "metadata": {},
   "source": [
    "# WCS\n",
    "\n",
    "* See http://astropy.readthedocs.io/en/latest/wcs/index.html"
   ]
  },
  {
   "cell_type": "code",
   "execution_count": 36,
   "metadata": {
    "collapsed": true
   },
   "outputs": [],
   "source": [
    "import numpy as np\n",
    "from astropy.wcs import WCS"
   ]
  },
  {
   "cell_type": "code",
   "execution_count": 39,
   "metadata": {},
   "outputs": [
    {
     "data": {
      "text/plain": [
       "WCS Keywords\n",
       "\n",
       "Number of WCS axes: 2\n",
       "CTYPE : 'RA---AIR'  'DEC--AIR'  \n",
       "CRVAL : 0.0  -90.0  \n",
       "CRPIX : -234.75  8.3392999999999997  \n",
       "PC1_1 PC1_2  : 1.0  0.0  \n",
       "PC2_1 PC2_2  : 0.0  1.0  \n",
       "CDELT : -0.066667000000000004  0.066667000000000004  \n",
       "NAXIS : 0  0"
      ]
     },
     "execution_count": 39,
     "metadata": {},
     "output_type": "execute_result"
    }
   ],
   "source": [
    "# Create WCS object\n",
    "# A WCS object defines a \"transformation\"\n",
    "# or \"projection\" from pixel to world coordinate\n",
    "# world and sky coordinates are the same\n",
    "w = WCS(naxis=2)\n",
    "\n",
    "w.wcs.crpix = [-234.75, 8.3393]\n",
    "w.wcs.cdelt = np.array([-0.066667, 0.066667])\n",
    "w.wcs.crval = [0, -90]\n",
    "w.wcs.ctype = [\"RA---AIR\", \"DEC--AIR\"]\n",
    "w.wcs.set_pv([(2, 1, 45.0)])\n",
    "\n",
    "w"
   ]
  },
  {
   "cell_type": "code",
   "execution_count": 46,
   "metadata": {},
   "outputs": [
    {
     "name": "stdout",
     "output_type": "stream",
     "text": [
      "[[ 267.96547027  -73.73660749]]\n"
     ]
    }
   ],
   "source": [
    "# Some pixel coordinates of interest.\n",
    "# pixcrd = np.array([[0, 0], [24, 38], [45, 98]], np.float_)\n",
    "pixcrd = [[0, 0]]  # x, y\n",
    "\n",
    "# Convert pixel coordinates to world coordinates\n",
    "world = w.wcs_pix2world(pixcrd, 1)\n",
    "print(world) # lon, lat"
   ]
  },
  {
   "cell_type": "code",
   "execution_count": 44,
   "metadata": {},
   "outputs": [
    {
     "data": {
      "text/plain": [
       "array([[  1.16529009e-12,  -2.80664381e-13],\n",
       "       [  2.40000000e+01,   3.80000000e+01],\n",
       "       [  4.50000000e+01,   9.80000000e+01]])"
      ]
     },
     "execution_count": 44,
     "metadata": {},
     "output_type": "execute_result"
    }
   ],
   "source": [
    "# You can go the other way\n",
    "# Let's transform the world coordinates\n",
    "# back to pixel coordinates\n",
    "# This should give the same as the initial pixel coords\n",
    "pix2 = w.wcs_world2pix(world, 1)\n",
    "pix2"
   ]
  },
  {
   "cell_type": "code",
   "execution_count": 79,
   "metadata": {
    "scrolled": true
   },
   "outputs": [
    {
     "name": "stdout",
     "output_type": "stream",
     "text": [
      "[[ 45.90700073  89.84849964]]\n"
     ]
    },
    {
     "data": {
      "text/plain": [
       "[<matplotlib.lines.Line2D at 0x10ef13d30>]"
      ]
     },
     "execution_count": 79,
     "metadata": {},
     "output_type": "execute_result"
    },
    {
     "data": {
      "image/png": "[encoded data removed]",
      "text/plain": [
       "<matplotlib.figure.Figure at 0x10f62d828>"
      ]
     },
     "metadata": {},
     "output_type": "display_data"
    }
   ],
   "source": [
    "# Usually WCS objects are created from FITS headers\n",
    "# You have a FITS file with a sky image\n",
    "# The header contains the WCS parameters\n",
    "\n",
    "# Example from here: http://astropy.readthedocs.io/en/latest/visualization/wcsaxes/index.html\n",
    "%matplotlib inline\n",
    "import matplotlib.pyplot as plt\n",
    "\n",
    "from astropy.wcs import WCS\n",
    "from astropy.io import fits\n",
    "from astropy.utils.data import get_pkg_data_filename\n",
    "\n",
    "filename = get_pkg_data_filename('galactic_center/gc_msx_e.fits')\n",
    "\n",
    "hdu = fits.open(filename)[0]\n",
    "wcs = WCS(hdu.header)\n",
    "\n",
    "plt.subplot(projection=wcs)\n",
    "plt.imshow(hdu.data, vmin=-2.e-5, vmax=2.e-4, origin='lower')\n",
    "plt.grid(color='white', ls='solid')\n",
    "plt.xlabel('Galactic Longitude')\n",
    "plt.ylabel('Galactic Latitude')\n",
    "# To plot a marker at a given pixel position\n",
    "plt.plot(70, 30, 'o', ms=20, c='red')\n",
    "\n",
    "# To plot a marker at a given sky position (method 1)\n",
    "world_pos = np.array([[0.2, 0.1]]) # Galactic position in deg\n",
    "pix_pos = wcs.wcs_world2pix(world_pos, 1)\n",
    "print(pix_pos)\n",
    "plt.plot(pix_pos[0][0], pix_pos[0][1], 'o', ms=20, c='white')\n",
    "\n",
    "# Second way to plot at given sky position\n",
    "# Read through and work through this \n",
    "# http://astropy.readthedocs.io/en/latest/visualization/wcsaxes/overlays.html"
   ]
  },
  {
   "cell_type": "code",
   "execution_count": 48,
   "metadata": {},
   "outputs": [
    {
     "data": {
      "text/plain": [
       "'/Users/deil/.astropy/cache/download/py3/40e0d23b52c236c6bc4840edbc6e57c0'"
      ]
     },
     "execution_count": 48,
     "metadata": {},
     "output_type": "execute_result"
    }
   ],
   "source": [
    "filename"
   ]
  },
  {
   "cell_type": "code",
   "execution_count": 51,
   "metadata": {},
   "outputs": [],
   "source": [
    "hdu = fits.open(filename)[0]"
   ]
  },
  {
   "cell_type": "code",
   "execution_count": 54,
   "metadata": {},
   "outputs": [
    {
     "data": {
      "text/plain": [
       "numpy.ndarray"
      ]
     },
     "execution_count": 54,
     "metadata": {},
     "output_type": "execute_result"
    }
   ],
   "source": [
    "type(hdu.data)"
   ]
  },
  {
   "cell_type": "code",
   "execution_count": 55,
   "metadata": {},
   "outputs": [
    {
     "data": {
      "text/plain": [
       "(149, 149)"
      ]
     },
     "execution_count": 55,
     "metadata": {},
     "output_type": "execute_result"
    }
   ],
   "source": [
    "hdu.data.shape"
   ]
  },
  {
   "cell_type": "code",
   "execution_count": 56,
   "metadata": {},
   "outputs": [
    {
     "data": {
      "text/plain": [
       "<matplotlib.image.AxesImage at 0x10f3ae828>"
      ]
     },
     "execution_count": 56,
     "metadata": {},
     "output_type": "execute_result"
    },
    {
     "data": {
      "image/png": "[encoded data removed]",
      "text/plain": [
       "<matplotlib.figure.Figure at 0x10e08ada0>"
      ]
     },
     "metadata": {},
     "output_type": "display_data"
    }
   ],
   "source": [
    "plt.imshow(hdu.data)"
   ]
  },
  {
   "cell_type": "code",
   "execution_count": 59,
   "metadata": {},
   "outputs": [
    {
     "data": {
      "text/plain": [
       "WCS Keywords\n",
       "\n",
       "Number of WCS axes: 2\n",
       "CTYPE : 'GLON-CAR'  'GLAT-CAR'  \n",
       "CRVAL : 0.0  0.0  \n",
       "CRPIX : 75.906999999999996  74.848500000000001  \n",
       "NAXIS : 149  149"
      ]
     },
     "execution_count": 59,
     "metadata": {},
     "output_type": "execute_result"
    }
   ],
   "source": [
    "wcs\n",
    "# GLON / GLAT shows that it's in Galactic coords\n",
    "# CAR is the projection type\n",
    "# Other parameters define the projection\n",
    "# between pixel and world coordinates\n",
    "\n",
    "# You don't have to read this:\n",
    "# Standard paper defining FITS: http://adsabs.harvard.edu/abs/2010A%26A...524A..42P\n",
    "# Papers defining WCS: https://fits.gsfc.nasa.gov/fits_wcs.html"
   ]
  },
  {
   "cell_type": "code",
   "execution_count": null,
   "metadata": {
    "collapsed": true
   },
   "outputs": [],
   "source": []
  }
 ],
 "metadata": {
  "kernelspec": {
   "display_name": "Python 3",
   "language": "python",
   "name": "python3"
  },
  "language_info": {
   "codemirror_mode": {
    "name": "ipython",
    "version": 3
   },
   "file_extension": ".py",
   "mimetype": "text/x-python",
   "name": "python",
   "nbconvert_exporter": "python",
   "pygments_lexer": "ipython3",
   "version": "3.6.1"
  }
 },
 "nbformat": 4,
 "nbformat_minor": 2
}
