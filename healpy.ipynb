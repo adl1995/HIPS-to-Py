{
 "cells": [
  {
   "cell_type": "code",
   "execution_count": 4,
   "metadata": {
    "collapsed": false
   },
   "outputs": [
    {
     "name": "stdout",
     "output_type": "stream",
     "text": [
      "Warning: Cannot change to a different GUI toolkit: osx. Using qt instead.\n",
      "Warning: Cannot change to a different GUI toolkit: gtk. Using qt instead.\n"
     ]
    }
   ],
   "source": [
    "%matplotlib inline  \n",
    "%matplotlib qt     \n",
    "%matplotlib osx    \n",
    "%matplotlib gtk    "
   ]
  },
  {
   "cell_type": "code",
   "execution_count": 8,
   "metadata": {
    "collapsed": false
   },
   "outputs": [],
   "source": [
    "import numpy as np\n",
    "import healpy as hp\n",
    "NSIDE = 32\n",
    "m = np.arange(hp.nside2npix(NSIDE))\n",
    "hp.mollview(m, title=\"Mollview image RING\")"
   ]
  },
  {
   "cell_type": "code",
   "execution_count": 10,
   "metadata": {
    "collapsed": true
   },
   "outputs": [],
   "source": [
    "#NESTED ordering\n",
    "hp.mollview(m, nest=True, title=\"Mollview image NESTED\")"
   ]
  },
  {
   "cell_type": "code",
   "execution_count": null,
   "metadata": {
    "collapsed": true
   },
   "outputs": [],
   "source": [
    "wmap_map_I = hp.read_map('./wmap_band_imap_r9_7yr_W_v4.fits') # reads in RING ordering"
   ]
  },
  {
   "cell_type": "code",
   "execution_count": null,
   "metadata": {
    "collapsed": true
   },
   "outputs": [],
   "source": [
    "hp.gnomview(wmap_map_I, rot=[0,0.3], title='GnomView', unit='mK', format='%.2g')\n",
    "hp.graticule()"
   ]
  },
  {
   "cell_type": "code",
   "execution_count": null,
   "metadata": {
    "collapsed": true
   },
   "outputs": [],
   "source": [
    "# Spherical harmonic transforms\n",
    "LMAX = 1024\n",
    "cl = hp.anafast(wmap_map_I_masked.filled(), lmax=LMAX)\n",
    "\n",
    "ell = np.arange(len(cl))"
   ]
  },
  {
   "cell_type": "code",
   "execution_count": null,
   "metadata": {
    "collapsed": true
   },
   "outputs": [],
   "source": [
    "# Plotting CBM spectrum\n",
    "\n",
    "plt.figure()\n",
    "plt.plot(ell, ell * (ell+1) * cl)\n",
    "plt.xlabel('ell'); plt.ylabel('ell(ell+1)cl'); plt.grid()\n",
    "hp.write_cl('cl.fits', cl)"
   ]
  }
 ],
 "metadata": {
  "kernelspec": {
   "display_name": "Python 2",
   "language": "python",
   "name": "python2"
  },
  "language_info": {
   "codemirror_mode": {
    "name": "ipython",
    "version": 2
   },
   "file_extension": ".py",
   "mimetype": "text/x-python",
   "name": "python",
   "nbconvert_exporter": "python",
   "pygments_lexer": "ipython2",
   "version": "2.7.6"
  }
 },
 "nbformat": 4,
 "nbformat_minor": 1
}
